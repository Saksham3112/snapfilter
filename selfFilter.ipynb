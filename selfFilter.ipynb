{
 "cells": [
  {
   "cell_type": "code",
   "execution_count": 1,
   "metadata": {},
   "outputs": [],
   "source": [
    "import cv2"
   ]
  },
  {
   "cell_type": "code",
   "execution_count": 5,
   "metadata": {},
   "outputs": [],
   "source": [
    "cap=cv2.VideoCapture(0)\n",
    "\n",
    "nose=cv2.CascadeClassifier('find_nose.xml')\n",
    "eyes=cv2.CascadeClassifier('find_eyes.xml')\n",
    "while True:\n",
    "    ret,frame=cap.read()\n",
    "    gray_frame=cv2.cvtColor(frame,cv2.COLOR_BGR2RGB)\n",
    "    if ret==False:\n",
    "        continue\n",
    "    \n",
    "    nose_coor=nose.detectMultiScale(gray_frame,1.3,5)\n",
    "    eyes_coor=eyes.detectMultiScale(gray_frame,1.3,5)\n",
    "    \n",
    "    for (x,y,w,h) in nose_coor :\n",
    "        mustache=cv2.imread('mustache.png',cv2.IMREAD_UNCHANGED)\n",
    "        mustache=cv2.resize(mustache,(w,int(0.5*w)))\n",
    "        opacity_m=mustache[:,:,3]\n",
    "        \n",
    "        w=w+10\n",
    "        \n",
    "        h=int(h/2)+6\n",
    "        for i in range (y+h,y+h+mustache.shape[0]):\n",
    "            for j in range(x,x+mustache.shape[1]):\n",
    "                if(opacity_m[i-y-h][j-x]>0):\n",
    "                    frame[i][j][0]=mustache[i-y-h][j-x][0]\n",
    "                    frame[i][j][1]=mustache[i-y-h][j-x][1]\n",
    "                    frame[i][j][2]=mustache[i-y-h][j-x][2]\n",
    "        \n",
    "    for(x,y,w,h) in eyes_coor:\n",
    "        glasses=cv2.imread('glasses.png',cv2.IMREAD_UNCHANGED)\n",
    "        glasses=cv2.resize(glasses,(w+25,int((25+w)*221/483)))\n",
    "        opacity_g=glasses[:,:,3]\n",
    "        \n",
    "        for i in range (y+3,y+3+glasses.shape[0]):\n",
    "            for j in range(x-10,x-10+glasses.shape[1]):\n",
    "                if(opacity_g[i-y-3][j-x+10]>0):\n",
    "                    frame[i][j][0]=glasses[i-y-3][j-x+10][0]\n",
    "                    frame[i][j][1]=glasses[i-y-3][j-x+10][1]\n",
    "                    frame[i][j][2]=glasses[i-y-3][j-x+10][2]\n",
    "        \n",
    "    cv2.imshow(\"Video frame\",frame)\n",
    "    # wait for user input - q,then you will stop the loop\n",
    "    key_pressed=cv2.waitKey(1) & 0xFF\n",
    "    if key_pressed==ord('q'):\n",
    "        break\n",
    "cap.release()\n",
    "cv2.destroyAllWindows()  "
   ]
  },
  {
   "cell_type": "code",
   "execution_count": null,
   "metadata": {},
   "outputs": [],
   "source": []
  }
 ],
 "metadata": {
  "interpreter": {
   "hash": "b89b5cfaba6639976dc87ff2fec6d58faec662063367e2c229c520fe71072417"
  },
  "kernelspec": {
   "display_name": "Python 3.10.1 64-bit",
   "language": "python",
   "name": "python3"
  },
  "language_info": {
   "codemirror_mode": {
    "name": "ipython",
    "version": 3
   },
   "file_extension": ".py",
   "mimetype": "text/x-python",
   "name": "python",
   "nbconvert_exporter": "python",
   "pygments_lexer": "ipython3",
   "version": "3.10.1"
  },
  "orig_nbformat": 4
 },
 "nbformat": 4,
 "nbformat_minor": 2
}
